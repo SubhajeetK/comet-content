{
 "cells": [
  {
   "cell_type": "markdown",
   "metadata": {},
   "source": [
    "# Keras MNIST example — Comet integration"
   ]
  },
  {
   "cell_type": "markdown",
   "metadata": {},
   "source": [
    "This Jupyter notebook demonstrates using the keras deep learning framework with [comet.ml](https://comet.ml). Adopted from the keras end-to-end example from the Comet.ml documentation: https://www.comet.ml/docs/python-sdk/keras/\n",
    "\n",
    "\n",
    "![comet logo](https://comet.ml/images/logo_comet_light.png)\n",
    "\n",
    "In this example, we build a keras model, and train it on the MNIST dataset.\n",
    "\n",
    "keras is a framework built on top of lower level libraries, such as TensorFlow, or the Cognitive Toolkit. \n",
    "\n",
    "To find out more, you might find these links helpful:\n",
    "\n",
    "* https://keras.io/\n",
    "* https://en.wikipedia.org/wiki/MNIST_database\n",
    "* http://jupyter.org/\n",
    "\n",
    "Let's get started!"
   ]
  },
  {
   "cell_type": "markdown",
   "metadata": {},
   "source": [
    "## 1. Imports\n",
    "\n",
    "First, we import the comet_ml library, followed by the keras library, and others if needed. The only requirement here is that **comet_ml be imported first**. If you forget, just restart the kernel, and import them in the proper order."
   ]
  },
  {
   "cell_type": "code",
   "execution_count": 1,
   "metadata": {},
   "outputs": [],
   "source": [
    "# import comet_ml in the top of your file\n",
    "from comet_ml import Experiment"
   ]
  },
  {
   "cell_type": "code",
   "execution_count": 2,
   "metadata": {},
   "outputs": [
    {
     "name": "stderr",
     "output_type": "stream",
     "text": [
      "Using TensorFlow backend.\n"
     ]
    }
   ],
   "source": [
    "import keras\n",
    "import numpy as np\n",
    "from keras.datasets import mnist\n",
    "from keras.models import Sequential\n",
    "from keras.layers import Dense, Dropout\n",
    "from keras.callbacks import EarlyStopping\n",
    "from keras.preprocessing import image\n",
    "from keras.optimizers import RMSprop"
   ]
  },
  {
   "cell_type": "markdown",
   "metadata": {},
   "source": [
    "## 2. Dataset\n",
    "\n",
    "As a simple demo, we'll start with the the MNIST dataset. In keras, we use the `load_data` method to download and load the data:"
   ]
  },
  {
   "cell_type": "code",
   "execution_count": 3,
   "metadata": {},
   "outputs": [],
   "source": [
    "# the data, shuffled and split between train and test sets\n",
    "(x_train, y_train), (x_test, y_test) = mnist.load_data()"
   ]
  },
  {
   "cell_type": "markdown",
   "metadata": {},
   "source": [
    "Let's see what we have here. \n",
    "\n",
    "* x_train are the training inputs\n",
    "* y_train are the training targets\n",
    "* x_test are the test/validation inputs\n",
    "* y_test are the test/validation targets\n",
    "\n",
    "These are numpy tensors, so we can get the shape of each:"
   ]
  },
  {
   "cell_type": "code",
   "execution_count": 4,
   "metadata": {},
   "outputs": [
    {
     "data": {
      "text/plain": [
       "(60000, 28, 28)"
      ]
     },
     "execution_count": 4,
     "metadata": {},
     "output_type": "execute_result"
    }
   ],
   "source": [
    "x_train.shape"
   ]
  },
  {
   "cell_type": "markdown",
   "metadata": {},
   "source": [
    "That is, there are 60,000 training inputs, each 28 x 28. These are pictures of numbers.\n",
    "\n",
    "To visualize the patterns, we write a little function."
   ]
  },
  {
   "cell_type": "code",
   "execution_count": 5,
   "metadata": {},
   "outputs": [],
   "source": [
    "def array_to_image(array, shape, scale):\n",
    "    img = image.array_to_img(array.reshape([int(s) for s in shape]))\n",
    "    x, y = img.size\n",
    "    img = img.resize((x * scale, y * scale))\n",
    "    return img"
   ]
  },
  {
   "cell_type": "markdown",
   "metadata": {},
   "source": [
    "We call it by providing a vector, a shape (rows, cols, color depth), and a scaling factor:"
   ]
  },
  {
   "cell_type": "code",
   "execution_count": 6,
   "metadata": {},
   "outputs": [
    {
     "data": {
      "image/png": "[encoded data removed]",
      "text/plain": [
       "<PIL.Image.Image image mode=L size=140x140 at 0x115F14860>"
      ]
     },
     "execution_count": 6,
     "metadata": {},
     "output_type": "execute_result"
    }
   ],
   "source": [
    "array_to_image(x_train[0], (28, 28, 1), 5)"
   ]
  },
  {
   "cell_type": "markdown",
   "metadata": {},
   "source": [
    "Often, we need to do a little data preparation to get it ready for the learning model. Here, we flatten the inputs, and put input values in the range 0 - 1:"
   ]
  },
  {
   "cell_type": "code",
   "execution_count": 7,
   "metadata": {},
   "outputs": [],
   "source": [
    "# run this cell first to create unflatted copy of the x_test data split for plotting later \n",
    "x_test_original = x_test.copy()"
   ]
  },
  {
   "cell_type": "code",
   "execution_count": 8,
   "metadata": {},
   "outputs": [
    {
     "name": "stdout",
     "output_type": "stream",
     "text": [
      "60000 train samples\n",
      "10000 test samples\n"
     ]
    }
   ],
   "source": [
    "# preprocess and normalize the data \n",
    "x_train = x_train.reshape(60000, 784)\n",
    "x_test = x_test.reshape(10000, 784)\n",
    "x_train = x_train.astype(\"float32\")\n",
    "x_test = x_test.astype(\"float32\")\n",
    "x_train /= 255\n",
    "x_test /= 255\n",
    "print(x_train.shape[0], \"train samples\")\n",
    "print(x_test.shape[0], \"test samples\")"
   ]
  },
  {
   "cell_type": "code",
   "execution_count": 9,
   "metadata": {},
   "outputs": [],
   "source": [
    "# set random seed for reproducibility \n",
    "# see: https://stackoverflow.com/questions/21494489/what-does-numpy-random-seed0-do\n",
    "np.random.seed(45)"
   ]
  },
  {
   "cell_type": "markdown",
   "metadata": {},
   "source": [
    "And we examine the targets:"
   ]
  },
  {
   "cell_type": "code",
   "execution_count": 10,
   "metadata": {},
   "outputs": [
    {
     "data": {
      "text/plain": [
       "(60000,)"
      ]
     },
     "execution_count": 10,
     "metadata": {},
     "output_type": "execute_result"
    }
   ],
   "source": [
    "y_train.shape"
   ]
  },
  {
   "cell_type": "markdown",
   "metadata": {},
   "source": [
    "We see that they are just 60,000 values. These are the integer representation of the picture. In this example, we wish to have 10 outputs representing, in a way, the probability of what the picture represents. \n",
    "\n",
    "To turn each number 0-9 into a 10-output vector for training, we use the `keras.utils.to_categorical` function to turn it into a so-called \"one hot\" representation:"
   ]
  },
  {
   "cell_type": "code",
   "execution_count": 11,
   "metadata": {},
   "outputs": [],
   "source": [
    "# convert class vectors to binary class matrices\n",
    "y_train = keras.utils.to_categorical(y_train, 10)\n",
    "y_test = keras.utils.to_categorical(y_test, 10)"
   ]
  },
  {
   "cell_type": "markdown",
   "metadata": {},
   "source": [
    "We then can check to see if the picture above is labeled correctly:"
   ]
  },
  {
   "cell_type": "code",
   "execution_count": 12,
   "metadata": {},
   "outputs": [
    {
     "data": {
      "text/plain": [
       "array([0., 0., 0., 0., 0., 1., 0., 0., 0., 0.], dtype=float32)"
      ]
     },
     "execution_count": 12,
     "metadata": {},
     "output_type": "execute_result"
    }
   ],
   "source": [
    "y_train[0]"
   ]
  },
  {
   "cell_type": "markdown",
   "metadata": {},
   "source": [
    "Indeed, the first pattern is a 5. We can also visualize this vector like so:"
   ]
  },
  {
   "cell_type": "code",
   "execution_count": 13,
   "metadata": {},
   "outputs": [
    {
     "data": {
      "image/png": "[encoded data removed]",
      "text/plain": [
       "<PIL.Image.Image image mode=L size=200x20 at 0xB2BBFA978>"
      ]
     },
     "execution_count": 13,
     "metadata": {},
     "output_type": "execute_result"
    }
   ],
   "source": [
    "array_to_image(y_train[0], (1, 10, 1), 20)"
   ]
  },
  {
   "cell_type": "markdown",
   "metadata": {},
   "source": [
    "We can see the \"one hot\" representation showing that y_train[0][5] is 1.0, and all of the rest are zeros."
   ]
  },
  {
   "cell_type": "markdown",
   "metadata": {},
   "source": [
    "## 3. Model Definition"
   ]
  },
  {
   "cell_type": "code",
   "execution_count": null,
   "metadata": {},
   "outputs": [],
   "source": [
    "# starting parameter set\n",
    "# these parameters can be adjusted with different values. Feel free to experiment\n",
    "batch_size = 128\n",
    "num_classes = 10\n",
    "epochs = 20\n",
    "num_nodes = 64\n",
    "optimizer = 'adam'\n",
    "activation = 'relu'"
   ]
  },
  {
   "cell_type": "code",
   "execution_count": 26,
   "metadata": {},
   "outputs": [],
   "source": [
    "def build_model_graph(input_shape=(784,)):\n",
    "    model = Sequential()\n",
    "    model.add(Dense(num_nodes, activation='relu', input_shape=(784,)))\n",
    "    model.add(Dense(256, activation='relu'))\n",
    "    model.add(Dense(num_classes, activation='softmax'))\n",
    "    model.compile(loss='categorical_crossentropy',\n",
    "                  optimizer=optimizer,\n",
    "                  metrics=['accuracy'])\n",
    "    return model"
   ]
  },
  {
   "cell_type": "markdown",
   "metadata": {},
   "source": [
    "And call it to create the model:"
   ]
  },
  {
   "cell_type": "code",
   "execution_count": 27,
   "metadata": {},
   "outputs": [],
   "source": [
    "model = build_model_graph()"
   ]
  },
  {
   "cell_type": "markdown",
   "metadata": {},
   "source": [
    "We use the summary method to check the details:"
   ]
  },
  {
   "cell_type": "code",
   "execution_count": 28,
   "metadata": {},
   "outputs": [
    {
     "name": "stdout",
     "output_type": "stream",
     "text": [
      "_________________________________________________________________\n",
      "Layer (type)                 Output Shape              Param #   \n",
      "=================================================================\n",
      "dense_4 (Dense)              (None, 64)                50240     \n",
      "_________________________________________________________________\n",
      "dense_5 (Dense)              (None, 256)               16640     \n",
      "_________________________________________________________________\n",
      "dense_6 (Dense)              (None, 10)                2570      \n",
      "=================================================================\n",
      "Total params: 69,450\n",
      "Trainable params: 69,450\n",
      "Non-trainable params: 0\n",
      "_________________________________________________________________\n"
     ]
    }
   ],
   "source": [
    "model.summary()"
   ]
  },
  {
   "cell_type": "markdown",
   "metadata": {},
   "source": [
    "## 4. Comet Experiment\n",
    "\n",
    "In order for comet.ml to log your experiment and results, you need to create an Experiment instance. To do this, you'll need two items:\n",
    "\n",
    "* a Comet `api_key`\n",
    "* a `project_name`\n",
    "\n",
    "You can find your Comet api_key when you log in to https://comet.ml and click on your project. You should see a screen that looks similar to:\n",
    "\n",
    "![comet_api_key](https://www.comet.ml/docs/img/register_3.png)\n",
    "\n",
    "Click on the API key to copy the key to your clipboard. \n",
    "\n",
    "It is recommended that you put your COMET_API_KEY in a `.env` key in the current directory. You can do that using the following code. Put it in a cell, replace the `...` with your key, and then delete the cell. That way your key stays private.\n",
    "\n",
    "```ipython\n",
    "%%writefile .env\n",
    "\n",
    "COMET_API_KEY=...\n",
    "```"
   ]
  },
  {
   "cell_type": "code",
   "execution_count": null,
   "metadata": {},
   "outputs": [],
   "source": [
    "experiment = Experiment(project_name=\"INSERT_YOUR_PROJECT_NAME\")"
   ]
  },
  {
   "cell_type": "markdown",
   "metadata": {},
   "source": [
    "If you get the error that ends with:\n",
    "\n",
    "```python\n",
    "ValueError: Comet.ml requires an API key. Please provide as the first argument to Experiment(api_key) or as an environment variable named COMET_API_KEY \n",
    "```\n",
    "\n",
    "then that means that either you don't have an `.env` file in this directory, or the key is invalid.\n",
    "\n",
    "Otherwise, you should see the message:\n",
    "\n",
    "```\n",
    "COMET INFO: Experiment is live on comet.ml https://www.comet.ml/...\n",
    "```\n",
    "\n",
    "If you click the URL, then a new page will open up. But, even better, you can execute the following line to see the experiment in the current notebook:"
   ]
  },
  {
   "cell_type": "code",
   "execution_count": 20,
   "metadata": {},
   "outputs": [
    {
     "data": {
      "text/html": [
       "\n",
       "        <iframe\n",
       "            width=\"100%\"\n",
       "            height=\"800px\"\n",
       "            src=\"https://www.comet.ml/ceceshao1/jupyter-notebook/e39b6d7e32f24fd5915db13cb8585034\"\n",
       "            frameborder=\"0\"\n",
       "            allowfullscreen\n",
       "        ></iframe>\n",
       "        "
      ],
      "text/plain": [
       "<IPython.lib.display.IFrame at 0xb2bd9c4a8>"
      ]
     },
     "metadata": {},
     "output_type": "display_data"
    }
   ],
   "source": [
    "experiment.display()"
   ]
  },
  {
   "cell_type": "code",
   "execution_count": 36,
   "metadata": {},
   "outputs": [],
   "source": [
    "# Comet.ml has a method to log a hash of the dataset, so that we can see if it changes:\n",
    "experiment.log_dataset_hash(x_train)"
   ]
  },
  {
   "cell_type": "markdown",
   "metadata": {},
   "source": [
    "# 5. Training\n"
   ]
  },
  {
   "cell_type": "code",
   "execution_count": 37,
   "metadata": {},
   "outputs": [],
   "source": [
    "params={'batch_size':batch_size,\n",
    "        'epochs':epochs,\n",
    "        'layer1_type':'Dense',\n",
    "        'layer1_num_nodes':num_nodes,\n",
    "        'layer1_activation':activation,\n",
    "        'optimizer':optimizer\n",
    "}\n",
    "\n",
    "# log parameters in Comet.ml\n",
    "experiment.log_multiple_params(params)"
   ]
  },
  {
   "cell_type": "code",
   "execution_count": 38,
   "metadata": {},
   "outputs": [
    {
     "name": "stdout",
     "output_type": "stream",
     "text": [
      "Train on 60000 samples, validate on 10000 samples\n",
      "Epoch 1/24\n",
      "60000/60000 [==============================] - 2s 40us/step - loss: 0.0225 - acc: 0.9927 - val_loss: 0.0862 - val_acc: 0.9771\n",
      "Epoch 2/24\n",
      "60000/60000 [==============================] - 3s 44us/step - loss: 0.0219 - acc: 0.9925 - val_loss: 0.0942 - val_acc: 0.9765\n",
      "Epoch 3/24\n",
      "60000/60000 [==============================] - 2s 39us/step - loss: 0.0192 - acc: 0.9939 - val_loss: 0.0871 - val_acc: 0.9781\n",
      "Epoch 4/24\n",
      "60000/60000 [==============================] - 2s 39us/step - loss: 0.0153 - acc: 0.9949 - val_loss: 0.0969 - val_acc: 0.9778\n",
      "Epoch 00004: early stopping\n",
      "10000/10000 [==============================] - 0s 19us/step\n"
     ]
    }
   ],
   "source": [
    "# Once you run this cell, you will be able to see the results live in the embedded Comet UI above \n",
    "\n",
    "# will log metrics with the prefix 'train_'\n",
    "with experiment.train():\n",
    "    history = model.fit(x_train, y_train,\n",
    "                        batch_size=batch_size,\n",
    "                        epochs=epochs,\n",
    "                        verbose=1,\n",
    "                        validation_data=(x_test, y_test),\n",
    "                        callbacks=[EarlyStopping(monitor='val_loss', min_delta=1e-4,patience=3, verbose=1, mode='auto')])\n",
    "\n",
    "#will log metrics with the prefix 'test_'\n",
    "with experiment.test():\n",
    "    loss, accuracy = model.evaluate(x_test, y_test)\n",
    "    metrics = {\n",
    "        'loss':loss,\n",
    "        'accuracy':accuracy\n",
    "    }\n",
    "    experiment.log_multiple_metrics(metrics)\n"
   ]
  },
  {
   "cell_type": "markdown",
   "metadata": {},
   "source": [
    "# 6. Logging\n",
    "\n",
    "In keras, Comet will automatically log:\n",
    "\n",
    "* the model description\n",
    "* the training loss\n",
    "* the training accuracy\n",
    "* the training validation loss\n",
    "* the training validation accuracy\n",
    "* the source code\n",
    "\n",
    "To log other items manually, you can use any of the following:\n",
    "\n",
    "* `experiment.log_html(HTML_STRING)`\n",
    "* `experiment.html_log_url(URL_STRING)`\n",
    "* `experiment.image(FILENAME)`\n",
    "* `experiment.log_dataset_hash(DATASET)` (shown above)\n",
    "* `experiment.log_other(KEY, VALUE)`\n",
    "* `experiment.log_metric(NAME, VALUE)`  (shown above)\n",
    "* `experiment.log_parameter(PARAMETER, VALUE)`  (shown above)\n",
    "* `experiment.log_figure(NAME, FIGURE)`  (shown below)\n",
    "\n",
    "For complete details, please see: \n",
    "\n",
    "https://www.comet.ml/docs/python-sdk/Experiment/#experiment"
   ]
  },
  {
   "cell_type": "markdown",
   "metadata": {},
   "source": [
    "**Example: Logging a figure**\n",
    "Let's plot a sample of our model's predictions and log it as a figure in Comet! "
   ]
  },
  {
   "cell_type": "code",
   "execution_count": 39,
   "metadata": {},
   "outputs": [],
   "source": [
    "import matplotlib.pyplot as plt\n",
    "\n",
    "%matplotlib inline"
   ]
  },
  {
   "cell_type": "code",
   "execution_count": 40,
   "metadata": {},
   "outputs": [
    {
     "data": {
      "image/png": "[encoded data removed]",
      "text/plain": [
       "<Figure size 1152x576 with 15 Axes>"
      ]
     },
     "metadata": {
      "needs_background": "light"
     },
     "output_type": "display_data"
    }
   ],
   "source": [
    "slice = 15\n",
    "predicted = model.predict(x_test[:slice]).argmax(-1)\n",
    "\n",
    "# remember our copy of x_test? This is where it comes into play again! \n",
    "# Since we flatted x_test during pre-processing, we need to preserve an unflattened version\n",
    "plt.figure(figsize=(16,8))\n",
    "for i in range(slice):\n",
    "    plt.subplot(1, slice, i+1)\n",
    "    plt.imshow(x_test_original[i], interpolation='nearest')\n",
    "    plt.text(0, 0, predicted[i], color='black', \n",
    "             bbox=dict(facecolor='white', alpha=1))\n",
    "    plt.axis('off')\n",
    "\n",
    "# Check the 'Graphics' tab to see this logged figure \n",
    "experiment.log_figure('Model Sample Prediction', plt)"
   ]
  },
  {
   "cell_type": "markdown",
   "metadata": {},
   "source": [
    "**Important Note:** Finally, we are ready to tell Comet that our experiment is complete. You don't need to do this is a script that ends. But in Jupyter, we need to indicate that the experiment is finished. We do that with the `experiment.end()` method:"
   ]
  },
  {
   "cell_type": "code",
   "execution_count": 41,
   "metadata": {},
   "outputs": [
    {
     "name": "stderr",
     "output_type": "stream",
     "text": [
      "COMET INFO: Uploading stats to Comet before program termination (may take several seconds)\n",
      "COMET INFO: Experiment is live on comet.ml https://www.comet.ml/ceceshao1/jupyter-experiments/e4baa5e55cb2406e91354bdcca7a890c\n",
      "\n"
     ]
    }
   ],
   "source": [
    "experiment.end()"
   ]
  },
  {
   "cell_type": "markdown",
   "metadata": {},
   "source": [
    "# 7. Creating another experiment"
   ]
  },
  {
   "cell_type": "markdown",
   "metadata": {},
   "source": [
    "If you would like to create another experiment, simply create a new Experiment(), and then the fit(), and finally, experiment.end()\n",
    "\n",
    "You could also restart the kernel and clear the cell output, if you wanted a clear session. \n",
    "\n",
    "In **Section 3: Model Definition**, we defined a starting set of hyperparameters. Feel free to adjust those and log the resulting model results as another experiment and compare the difference! \n",
    "\n",
    "Comet also offers hyperparameter optimization: https://www.comet.ml/parameter-optimization\n"
   ]
  },
  {
   "cell_type": "code",
   "execution_count": 25,
   "metadata": {},
   "outputs": [],
   "source": [
    "# try this second set of parameters \n",
    "batch_size = 64 # adjusted batch size from 128 to 64 \n",
    "num_classes = 10\n",
    "epochs = 24 # adjusted number of epochs from 20 to 24\n",
    "num_nodes = 64\n",
    "optimizer = 'adam'\n",
    "activation = 'relu'\n",
    "\n",
    "# Check out the Comet Hyperparameter tab for the new experiment and note the new epoch value of 24 "
   ]
  },
  {
   "cell_type": "markdown",
   "metadata": {},
   "source": [
    "Continue by running **Section 4: Comet Experiment** onwards with these new parameters and see if there's a difference in performance! Don't forget to run `experiment.end()` at the end to mark the completion of your second experiment."
   ]
  },
  {
   "cell_type": "markdown",
   "metadata": {},
   "source": [
    "## Contact Comet\n",
    "Have questions about this notebook or our new Jupyter support? Email us at mail@comet-ml.com or Slack us directly [here](https://join.slack.com/t/cometml/shared_invite/enQtMzM0OTMwNTQ0Mjc5LTM4ZDViODkyYTlmMTVlNWY0NzFjNGQ5Y2Q1Y2EwMjQ5MzQ4YmI2YjhmZTY3YmYxYTYxYTNkYzM4NjgxZmJjMDI)"
   ]
  }
 ],
 "metadata": {
  "kernelspec": {
   "display_name": "Python 3",
   "language": "python",
   "name": "python3"
  },
  "language_info": {
   "codemirror_mode": {
    "name": "ipython",
    "version": 3
   },
   "file_extension": ".py",
   "mimetype": "text/x-python",
   "name": "python",
   "nbconvert_exporter": "python",
   "pygments_lexer": "ipython3",
   "version": "3.5.0"
  }
 },
 "nbformat": 4,
 "nbformat_minor": 2
}
