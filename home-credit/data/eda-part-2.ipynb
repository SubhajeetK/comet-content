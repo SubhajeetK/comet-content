{
 "cells": [
  {
   "cell_type": "code",
   "execution_count": 2,
   "metadata": {},
   "outputs": [
    {
     "name": "stderr",
     "output_type": "stream",
     "text": [
      "/usr/lib/python3.5/importlib/_bootstrap.py:222: RuntimeWarning: numpy.dtype size changed, may indicate binary incompatibility. Expected 96, got 88\n",
      "  return f(*args, **kwds)\n"
     ]
    }
   ],
   "source": [
    "import pandas as pd"
   ]
  },
  {
   "cell_type": "code",
   "execution_count": 3,
   "metadata": {},
   "outputs": [
    {
     "data": {
      "text/plain": [
       "(276759, 215)"
      ]
     },
     "execution_count": 3,
     "metadata": {},
     "output_type": "execute_result"
    }
   ],
   "source": [
    "# Load in previously processed dataset\n",
    "application_train = pd.read_csv('./home-credit-train.csv')\n",
    "application_train.shape"
   ]
  },
  {
   "cell_type": "code",
   "execution_count": 4,
   "metadata": {},
   "outputs": [
    {
     "data": {
      "text/plain": [
       "(30752, 215)"
      ]
     },
     "execution_count": 4,
     "metadata": {},
     "output_type": "execute_result"
    }
   ],
   "source": [
    "application_valid = pd.read_csv('./home-credit-valid.csv')\n",
    "application_valid.shape"
   ]
  },
  {
   "cell_type": "code",
   "execution_count": 5,
   "metadata": {},
   "outputs": [],
   "source": [
    "application = pd.concat([application_train, application_valid], axis=0)"
   ]
  },
  {
   "cell_type": "code",
   "execution_count": 6,
   "metadata": {},
   "outputs": [],
   "source": [
    "IDS = application['SK_ID_CURR']"
   ]
  },
  {
   "cell_type": "code",
   "execution_count": 10,
   "metadata": {},
   "outputs": [],
   "source": [
    "rows = 100000"
   ]
  },
  {
   "cell_type": "code",
   "execution_count": 7,
   "metadata": {},
   "outputs": [],
   "source": [
    "import concurrent.futures\n",
    "from concurrent.futures import ProcessPoolExecutor\n",
    "\n",
    "\"\"\" Every SK_ID_CURR in the application_train.csv dataset is linked \n",
    "to several SK_ID_PREV in the other csv files. We are going to group the data \n",
    "in the other datasets according to the SK_ID_CURR, and then extract aggregate metrics\n",
    "for each of these groups\n",
    "\n",
    "\"\"\"\n",
    "\n",
    "\n",
    "def process_group(group, column, prefix):\n",
    "    try:\n",
    "        group[-1].drop(labels=['SK_ID_PREV', 'SK_ID_CURR'], inplace=True, axis=1)\n",
    "        \n",
    "    except BaseException as e:\n",
    "        #edge case with bureau.csv\n",
    "        group[-1].drop(labels=['SK_ID_CURR', 'SK_ID_BUREAU'], inplace=True, axis=1)\n",
    "        \n",
    "    numerical_features = group[-1].select_dtypes(include=['float', 'int']).mean(axis=0).to_frame().T    \n",
    "    categorical_features = group[-1].select_dtypes(include=['object']).mode()\n",
    "                 \n",
    "    features = pd.concat([numerical_features, categorical_features], axis=1)\n",
    "    features.columns = [prefix + str(col) for col in features.columns]\n",
    "    features[column] = group[0]\n",
    "    \n",
    "    return features\n",
    "\n",
    "    \n",
    "def generator(groups, column, prefix):\n",
    "    with ProcessPoolExecutor() as executor:\n",
    "        futures = {executor.submit(process_group, group, column, prefix): group for group in groups}\n",
    "        \n",
    "        for future in concurrent.futures.as_completed(futures):\n",
    "            yield future.result()\n",
    "            \n",
    "        \n",
    "def aggregate(df, column, prefix):\n",
    "    output = pd.DataFrame()\n",
    "    _df = convert_types(df)\n",
    "    \n",
    "    # Group data by SK_ID_CURR\n",
    "    groups = list(_df.groupby(column))\n",
    "    gen = generator(groups, column, prefix)\n",
    "    for result in gen:\n",
    "        output = output.append(result, ignore_index=True)\n",
    "        \n",
    "    return output"
   ]
  },
  {
   "cell_type": "code",
   "execution_count": 8,
   "metadata": {},
   "outputs": [],
   "source": [
    "import numpy as np\n",
    "\n",
    "# From:\n",
    "# https://www.kaggle.com/willkoehrsen/introduction-to-manual-feature-engineering-p2\n",
    "def convert_types(df):  \n",
    "    original_memory = df.memory_usage().sum()\n",
    "    \n",
    "    # Iterate through each column\n",
    "    for c in df:\n",
    "        \n",
    "        # Convert ids and booleans to integers\n",
    "        if ('SK_ID' in c):\n",
    "            df[c] = df[c].fillna(0).astype(np.int32)\n",
    "            \n",
    "        # Convert objects to category\n",
    "        elif (df[c].dtype == 'object') and (df[c].nunique() < df.shape[0]):\n",
    "            df[c] = df[c].astype('category')\n",
    "        \n",
    "        # Booleans mapped to integers\n",
    "        elif list(df[c].unique()) == [1, 0]:\n",
    "            df[c] = df[c].astype(bool)\n",
    "        \n",
    "        # Float64 to float32\n",
    "        elif df[c].dtype == float:\n",
    "            df[c] = df[c].astype(np.float32)\n",
    "            \n",
    "        # Int64 to int32\n",
    "        elif df[c].dtype == int:\n",
    "            df[c] = df[c].astype(np.int32)\n",
    "        \n",
    "    new_memory = df.memory_usage().sum()\n",
    "    \n",
    "    print('Original memory usage (GB):', original_memory / 1e9 )\n",
    "    print('New memory usage (GB):', new_memory / 1e9 )\n",
    "            \n",
    "    return df"
   ]
  },
  {
   "cell_type": "code",
   "execution_count": 11,
   "metadata": {},
   "outputs": [
    {
     "data": {
      "text/plain": [
       "(100000, 37)"
      ]
     },
     "execution_count": 11,
     "metadata": {},
     "output_type": "execute_result"
    }
   ],
   "source": [
    "prev_app = pd.read_csv('./previous_application.csv',nrows=rows)\n",
    "prev_app = prev_app.sort_values(['SK_ID_CURR', 'SK_ID_PREV']).reset_index(drop=True)\n",
    "prev_app.shape"
   ]
  },
  {
   "cell_type": "code",
   "execution_count": null,
   "metadata": {},
   "outputs": [],
   "source": [
    "prev_app_agg = aggregate(prev_app, 'SK_ID_CURR', 'PREV_APP_')\n",
    "del prev_app"
   ]
  },
  {
   "cell_type": "code",
   "execution_count": 15,
   "metadata": {},
   "outputs": [
    {
     "data": {
      "text/plain": [
       "(96939, 36)"
      ]
     },
     "execution_count": 15,
     "metadata": {},
     "output_type": "execute_result"
    }
   ],
   "source": [
    "prev_app_agg.shape"
   ]
  },
  {
   "cell_type": "code",
   "execution_count": 18,
   "metadata": {},
   "outputs": [
    {
     "data": {
      "text/plain": [
       "(100000, 23)"
      ]
     },
     "execution_count": 18,
     "metadata": {},
     "output_type": "execute_result"
    }
   ],
   "source": [
    "credit_balance = pd.read_csv('./credit_card_balance.csv', nrows=rows)\n",
    "credit_balance = credit_balance.sort_values(['SK_ID_CURR', 'SK_ID_PREV']).reset_index(drop = True)\n",
    "credit_balance.shape"
   ]
  },
  {
   "cell_type": "code",
   "execution_count": null,
   "metadata": {},
   "outputs": [],
   "source": [
    "credit_balance_agg = aggregate(credit_balance, 'SK_ID_CURR', 'CREDIT_BALANCE_')\n",
    "del credit_balance"
   ]
  },
  {
   "cell_type": "code",
   "execution_count": 21,
   "metadata": {},
   "outputs": [
    {
     "data": {
      "text/plain": [
       "(54464, 22)"
      ]
     },
     "execution_count": 21,
     "metadata": {},
     "output_type": "execute_result"
    }
   ],
   "source": [
    "credit_balance_agg.shape"
   ]
  },
  {
   "cell_type": "code",
   "execution_count": 23,
   "metadata": {},
   "outputs": [],
   "source": [
    "credit_balance_agg.to_csv('credit_balance_agg.csv', index=False)"
   ]
  },
  {
   "cell_type": "code",
   "execution_count": 22,
   "metadata": {},
   "outputs": [
    {
     "data": {
      "text/plain": [
       "(100000, 8)"
      ]
     },
     "execution_count": 22,
     "metadata": {},
     "output_type": "execute_result"
    }
   ],
   "source": [
    "pos_cash = pd.read_csv('./POS_CASH_balance.csv', nrows=rows)\n",
    "pos_cash = pos_cash.sort_values(['SK_ID_CURR', 'SK_ID_PREV']).reset_index(drop = True)\n",
    "pos_cash.shape"
   ]
  },
  {
   "cell_type": "code",
   "execution_count": 24,
   "metadata": {},
   "outputs": [],
   "source": [
    "pos_cash_agg = aggregate(pos_cash, 'SK_ID_CURR', 'POS_CASH_')\n",
    "del pos_cash"
   ]
  },
  {
   "cell_type": "code",
   "execution_count": 28,
   "metadata": {},
   "outputs": [],
   "source": [
    "pos_cash_agg.to_csv('pos_cash_agg.csv', index=False)"
   ]
  },
  {
   "cell_type": "code",
   "execution_count": 30,
   "metadata": {},
   "outputs": [
    {
     "data": {
      "text/plain": [
       "(100000, 8)"
      ]
     },
     "execution_count": 30,
     "metadata": {},
     "output_type": "execute_result"
    }
   ],
   "source": [
    "installments = pd.read_csv('./installments_payments.csv', nrows=rows)\n",
    "installments = installments.sort_values(['SK_ID_CURR', 'SK_ID_PREV']).reset_index(drop = True)\n",
    "installments.shape"
   ]
  },
  {
   "cell_type": "code",
   "execution_count": 31,
   "metadata": {},
   "outputs": [],
   "source": [
    "installments_agg = aggregate(installments, 'SK_ID_CURR', 'INSTALLMENTS_')\n",
    "del installments"
   ]
  },
  {
   "cell_type": "code",
   "execution_count": 32,
   "metadata": {},
   "outputs": [
    {
     "data": {
      "text/plain": [
       "(148590, 7)"
      ]
     },
     "execution_count": 32,
     "metadata": {},
     "output_type": "execute_result"
    }
   ],
   "source": [
    "installments_agg.shape"
   ]
  },
  {
   "cell_type": "code",
   "execution_count": 33,
   "metadata": {},
   "outputs": [],
   "source": [
    "bureau = pd.read_csv('./bureau.csv', nrows=rows)\n",
    "bureau = bureau.sort_values(['SK_ID_CURR', 'SK_ID_BUREAU']).reset_index(drop=True)\n",
    "bureau_balance = pd.read_csv('./bureau_balance.csv', nrows=rows)\n",
    "bureau_balance = bureau_balance.sort_values('SK_ID_BUREAU').reset_index(drop = True)"
   ]
  },
  {
   "cell_type": "code",
   "execution_count": 34,
   "metadata": {},
   "outputs": [],
   "source": [
    "bureau_merged = pd.merge(bureau, bureau_balance, on=['SK_ID_BUREAU'])"
   ]
  },
  {
   "cell_type": "code",
   "execution_count": 35,
   "metadata": {},
   "outputs": [
    {
     "data": {
      "text/plain": [
       "(80066, 19)"
      ]
     },
     "execution_count": 35,
     "metadata": {},
     "output_type": "execute_result"
    }
   ],
   "source": [
    "bureau_merged.shape"
   ]
  },
  {
   "cell_type": "code",
   "execution_count": 36,
   "metadata": {},
   "outputs": [],
   "source": [
    "bureau_agg = aggregate(bureau_merged, 'SK_ID_CURR', 'BUREAU_')"
   ]
  },
  {
   "cell_type": "code",
   "execution_count": 37,
   "metadata": {},
   "outputs": [
    {
     "data": {
      "text/plain": [
       "(545, 18)"
      ]
     },
     "execution_count": 37,
     "metadata": {},
     "output_type": "execute_result"
    }
   ],
   "source": [
    "bureau_agg.shape"
   ]
  },
  {
   "cell_type": "code",
   "execution_count": 38,
   "metadata": {},
   "outputs": [],
   "source": [
    "dataframes = [application, prev_app_agg, installments_agg, pos_cash_agg, credit_balance_agg, bureau_agg]"
   ]
  },
  {
   "cell_type": "code",
   "execution_count": 39,
   "metadata": {},
   "outputs": [],
   "source": [
    "from functools import reduce\n",
    "\n",
    "df_merged = reduce(lambda left, right: pd.merge(left,right.drop_duplicates('SK_ID_CURR'), \n",
    "                                                on=['SK_ID_CURR'], how='left'), dataframes)"
   ]
  },
  {
   "cell_type": "code",
   "execution_count": 40,
   "metadata": {},
   "outputs": [
    {
     "data": {
      "text/plain": [
       "(307511, 300)"
      ]
     },
     "execution_count": 40,
     "metadata": {},
     "output_type": "execute_result"
    }
   ],
   "source": [
    "df_merged.shape"
   ]
  },
  {
   "cell_type": "code",
   "execution_count": 17,
   "metadata": {},
   "outputs": [],
   "source": [
    "\"\"\" Drop all feature columns with 90% NaNs\n",
    "\"\"\"\n",
    "\n",
    "THRESHOLD = 0.9\n",
    "\n",
    "def filterna(df):\n",
    "    for c in df.columns.tolist():\n",
    "        ratio = (df[c].isnull().sum() / df.shape[0])\n",
    "        if ratio > THRESHOLD:\n",
    "            print(c, ratio)\n",
    "            df = df.drop(labels=[c], axis=1)\n",
    "    \n",
    "    return df"
   ]
  },
  {
   "cell_type": "code",
   "execution_count": 42,
   "metadata": {},
   "outputs": [
    {
     "name": "stdout",
     "output_type": "stream",
     "text": [
      "PREV_APP_RATE_INTEREST_PRIMARY 0.9991057230473056\n",
      "PREV_APP_RATE_INTEREST_PRIVILEGED 0.9991057230473056\n",
      "BUREAU_DAYS_CREDIT 0.9990276770587069\n",
      "BUREAU_CREDIT_DAY_OVERDUE 0.9990276770587069\n",
      "BUREAU_DAYS_CREDIT_ENDDATE 0.9990536923882398\n",
      "BUREAU_DAYS_ENDDATE_FACT 0.9991479979577966\n",
      "BUREAU_AMT_CREDIT_MAX_OVERDUE 0.9993918916721678\n",
      "BUREAU_CNT_CREDIT_PROLONG 0.9990276770587069\n",
      "BUREAU_AMT_CREDIT_SUM 0.9990276770587069\n",
      "BUREAU_AMT_CREDIT_SUM_DEBT 0.999060196220623\n",
      "BUREAU_AMT_CREDIT_SUM_LIMIT 0.9991252345444553\n",
      "BUREAU_AMT_CREDIT_SUM_OVERDUE 0.9990276770587069\n",
      "BUREAU_DAYS_CREDIT_UPDATE 0.9990276770587069\n",
      "BUREAU_AMT_ANNUITY 0.9991577537063715\n",
      "BUREAU_MONTHS_BALANCE 0.9990276770587069\n",
      "BUREAU_CREDIT_ACTIVE 0.9990276770587069\n",
      "BUREAU_CREDIT_CURRENCY 0.9990276770587069\n",
      "BUREAU_CREDIT_TYPE 0.9990276770587069\n",
      "BUREAU_STATUS 0.9990276770587069\n"
     ]
    }
   ],
   "source": [
    "filtered = filterna(df_merged)"
   ]
  },
  {
   "cell_type": "code",
   "execution_count": 44,
   "metadata": {},
   "outputs": [
    {
     "data": {
      "text/plain": [
       "(307511, 281)"
      ]
     },
     "execution_count": 44,
     "metadata": {},
     "output_type": "execute_result"
    }
   ],
   "source": [
    "filtered.shape"
   ]
  },
  {
   "cell_type": "code",
   "execution_count": 12,
   "metadata": {},
   "outputs": [],
   "source": [
    "filtered = pd.read_csv('home-credit-all-features.csv')"
   ]
  },
  {
   "cell_type": "code",
   "execution_count": null,
   "metadata": {},
   "outputs": [],
   "source": [
    "filtered.fillna('ffill',  inplace=True)\n",
    "filtered.fillna('bfill', inplace=True)"
   ]
  },
  {
   "cell_type": "code",
   "execution_count": 25,
   "metadata": {},
   "outputs": [
    {
     "data": {
      "text/plain": [
       "(307511, 18)"
      ]
     },
     "execution_count": 25,
     "metadata": {},
     "output_type": "execute_result"
    }
   ],
   "source": [
    "categorical_features = filtered.select_dtypes(include=['object'])\n",
    "categorical_features.shape"
   ]
  },
  {
   "cell_type": "code",
   "execution_count": 26,
   "metadata": {},
   "outputs": [
    {
     "data": {
      "text/plain": [
       "Index(['PREV_APP_NAME_CONTRACT_TYPE', 'PREV_APP_WEEKDAY_APPR_PROCESS_START',\n",
       "       'PREV_APP_FLAG_LAST_APPL_PER_CONTRACT',\n",
       "       'PREV_APP_NAME_CASH_LOAN_PURPOSE', 'PREV_APP_NAME_CONTRACT_STATUS',\n",
       "       'PREV_APP_NAME_PAYMENT_TYPE', 'PREV_APP_CODE_REJECT_REASON',\n",
       "       'PREV_APP_NAME_TYPE_SUITE', 'PREV_APP_NAME_CLIENT_TYPE',\n",
       "       'PREV_APP_NAME_GOODS_CATEGORY', 'PREV_APP_NAME_PORTFOLIO',\n",
       "       'PREV_APP_NAME_PRODUCT_TYPE', 'PREV_APP_CHANNEL_TYPE',\n",
       "       'PREV_APP_NAME_SELLER_INDUSTRY', 'PREV_APP_NAME_YIELD_GROUP',\n",
       "       'PREV_APP_PRODUCT_COMBINATION', 'POS_CASH_NAME_CONTRACT_STATUS',\n",
       "       'CREDIT_BALANCE_NAME_CONTRACT_STATUS'],\n",
       "      dtype='object')"
      ]
     },
     "execution_count": 26,
     "metadata": {},
     "output_type": "execute_result"
    }
   ],
   "source": [
    "categorical_features.columns"
   ]
  },
  {
   "cell_type": "code",
   "execution_count": 27,
   "metadata": {},
   "outputs": [],
   "source": [
    "encoded_categorical_features = pd.get_dummies(categorical_features)"
   ]
  },
  {
   "cell_type": "code",
   "execution_count": 28,
   "metadata": {},
   "outputs": [
    {
     "data": {
      "text/plain": [
       "(307511, 151)"
      ]
     },
     "execution_count": 28,
     "metadata": {},
     "output_type": "execute_result"
    }
   ],
   "source": [
    "encoded_categorical_features.shape"
   ]
  },
  {
   "cell_type": "code",
   "execution_count": 13,
   "metadata": {},
   "outputs": [],
   "source": [
    "numerical_features = filtered.select_dtypes(exclude=['category', 'object'])"
   ]
  },
  {
   "cell_type": "code",
   "execution_count": 47,
   "metadata": {},
   "outputs": [],
   "source": [
    "numerical_features.select_dtypes(exclude='object').to_csv('home-credit-numerical-features.csv', index=False)"
   ]
  },
  {
   "cell_type": "code",
   "execution_count": null,
   "metadata": {},
   "outputs": [],
   "source": [
    "! python ../manual_features.py --data ./home-credit-numerical-features.csv --outfile home-credit-numerical-processed.csv"
   ]
  },
  {
   "cell_type": "code",
   "execution_count": 30,
   "metadata": {},
   "outputs": [],
   "source": [
    "processed_numerical_features = pd.read_csv('./home-credit-numerical-processed.csv')"
   ]
  },
  {
   "cell_type": "code",
   "execution_count": 31,
   "metadata": {},
   "outputs": [],
   "source": [
    "final_features = pd.concat([processed_numerical_features, categorical_features], axis=1)"
   ]
  },
  {
   "cell_type": "code",
   "execution_count": null,
   "metadata": {},
   "outputs": [],
   "source": [
    "from sklearn.model_selection import train_test_split\n",
    "\n",
    "X_train, X_valid, y_train, y_valid = train_test_split(final_features.drop('TARGET', axis=1), final_features['TARGET'], \n",
    "                                                    test_size=0.2, random_state=42)"
   ]
  },
  {
   "cell_type": "code",
   "execution_count": 35,
   "metadata": {},
   "outputs": [],
   "source": [
    "train = pd.concat([X_train, y_train], axis=1)\n",
    "valid = pd.concat([X_valid, y_valid], axis=1)"
   ]
  },
  {
   "cell_type": "code",
   "execution_count": 42,
   "metadata": {},
   "outputs": [],
   "source": [
    "train.drop('Unnamed: 0', axis=1, inplace=True)\n",
    "train.select_dtypes(exclude=['object']).to_csv('home-credit-manual-train.csv')"
   ]
  },
  {
   "cell_type": "code",
   "execution_count": 43,
   "metadata": {},
   "outputs": [],
   "source": [
    "valid.drop('Unnamed: 0', axis=1, inplace=True)\n",
    "valid.select_dtypes(exclude=['object']).to_csv('home-credit-manual-valid.csv')"
   ]
  }
 ],
 "metadata": {
  "kernelspec": {
   "display_name": "Python 3",
   "language": "python",
   "name": "python3"
  }
 },
 "nbformat": 4,
 "nbformat_minor": 2
}
