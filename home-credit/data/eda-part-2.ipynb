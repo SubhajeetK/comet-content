{
 "cells": [
  {
   "cell_type": "code",
   "execution_count": null,
   "metadata": {},
   "outputs": [],
   "source": [
    "import pandas as pd"
   ]
  },
  {
   "cell_type": "code",
   "execution_count": null,
   "metadata": {},
   "outputs": [],
   "source": [
    "# Load in previously processed dataset\n",
    "application_train = pd.read_csv('./home-credit-train.csv')\n",
    "application_train.shape"
   ]
  },
  {
   "cell_type": "code",
   "execution_count": null,
   "metadata": {},
   "outputs": [],
   "source": [
    "application_valid = pd.read_csv('./home-credit-valid.csv')\n",
    "application_valid.shape"
   ]
  },
  {
   "cell_type": "code",
   "execution_count": null,
   "metadata": {},
   "outputs": [],
   "source": [
    "application = pd.concat([application_train, application_valid], axis=0)"
   ]
  },
  {
   "cell_type": "code",
   "execution_count": null,
   "metadata": {},
   "outputs": [],
   "source": [
    "application.drop(labels=['Unnamed: 0'], inplace=True)"
   ]
  },
  {
   "cell_type": "code",
   "execution_count": null,
   "metadata": {},
   "outputs": [],
   "source": [
    "application.shape"
   ]
  },
  {
   "cell_type": "code",
   "execution_count": null,
   "metadata": {},
   "outputs": [],
   "source": [
    "rows = application.shape[0]"
   ]
  },
  {
   "cell_type": "code",
   "execution_count": null,
   "metadata": {},
   "outputs": [],
   "source": [
    "prev_app = pd.read_csv('./previous_application.csv', nrows=rows)\n",
    "prev_app = prev_app.sort_values(['SK_ID_CURR', 'SK_ID_PREV']).reset_index(drop=True)\n",
    "prev_app = prev_app[prev_app['SK_ID_CURR'].isin(application['SK_ID_CURR'].values.tolist())]\n",
    "prev_app.shape"
   ]
  },
  {
   "cell_type": "code",
   "execution_count": null,
   "metadata": {},
   "outputs": [],
   "source": [
    "bureau = pd.read_csv('./bureau.csv', nrows=rows)\n",
    "bureau = bureau.sort_values(['SK_ID_CURR', 'SK_ID_BUREAU']).reset_index(drop=True)\n",
    "bureau.shape"
   ]
  },
  {
   "cell_type": "code",
   "execution_count": null,
   "metadata": {},
   "outputs": [],
   "source": [
    "bureau_balance = pd.read_csv('./bureau_balance.csv', nrows=rows)\n",
    "bureau_balance = bureau_balance.sort_values('SK_ID_BUREAU').reset_index(drop = True)\n",
    "bureau_balance.shape"
   ]
  },
  {
   "cell_type": "code",
   "execution_count": null,
   "metadata": {},
   "outputs": [],
   "source": [
    "bureau_merged = pd.merge(bureau, bureau_balance, on=['SK_ID_BUREAU'])\n",
    "bureau_merged.shape"
   ]
  },
  {
   "cell_type": "code",
   "execution_count": null,
   "metadata": {},
   "outputs": [],
   "source": [
    "bureau_merged = bureau_merged[bureau_merged['SK_ID_CURR'].isin(application['SK_ID_CURR'].values.tolist())]"
   ]
  },
  {
   "cell_type": "code",
   "execution_count": null,
   "metadata": {},
   "outputs": [],
   "source": [
    "credit_balance = pd.read_csv('./credit_card_balance.csv', nrows=rows)\n",
    "credit_balance = credit_balance.sort_values(['SK_ID_CURR', 'SK_ID_PREV']).reset_index(drop = True)\n",
    "credit_balance.shape"
   ]
  },
  {
   "cell_type": "code",
   "execution_count": null,
   "metadata": {},
   "outputs": [],
   "source": [
    "credit_balance = credit_balance[credit_balance['SK_ID_CURR'].isin(application['SK_ID_CURR'].values.tolist())]"
   ]
  },
  {
   "cell_type": "code",
   "execution_count": null,
   "metadata": {},
   "outputs": [],
   "source": [
    "pos_cash = pd.read_csv('./POS_CASH_balance.csv', nrows=rows)\n",
    "pos_cash = pos_cash.sort_values(['SK_ID_CURR', 'SK_ID_PREV']).reset_index(drop = True)\n",
    "pos_cash.shape"
   ]
  },
  {
   "cell_type": "code",
   "execution_count": null,
   "metadata": {},
   "outputs": [],
   "source": [
    "pos_cash = pos_cash[pos_cash['SK_ID_CURR'].isin(application['SK_ID_CURR'].values.tolist())]"
   ]
  },
  {
   "cell_type": "code",
   "execution_count": null,
   "metadata": {},
   "outputs": [],
   "source": [
    "installments = pd.read_csv('./installments_payments.csv', nrows=rows)\n",
    "installments = installments.sort_values(['SK_ID_CURR', 'SK_ID_PREV']).reset_index(drop = True)\n",
    "installments.shape"
   ]
  },
  {
   "cell_type": "code",
   "execution_count": null,
   "metadata": {},
   "outputs": [],
   "source": [
    "installments = installments[installments['SK_ID_CURR'].isin(application['SK_ID_CURR'].values.tolist())]"
   ]
  },
  {
   "cell_type": "code",
   "execution_count": null,
   "metadata": {},
   "outputs": [],
   "source": [
    "dataframes = [prev_app, bureau_merged, installments, pos_cash, credit_balance]"
   ]
  },
  {
   "cell_type": "code",
   "execution_count": null,
   "metadata": {},
   "outputs": [],
   "source": [
    "from functools import reduce\n",
    "\n",
    "df_merged = reduce(lambda left, right: pd.merge(left,right,on=['SK_ID_CURR'], how='outer'), dataframes)"
   ]
  },
  {
   "cell_type": "code",
   "execution_count": null,
   "metadata": {},
   "outputs": [],
   "source": [
    "df_merged.shape"
   ]
  },
  {
   "cell_type": "code",
   "execution_count": null,
   "metadata": {},
   "outputs": [],
   "source": [
    "df_merged.to_csv('home-credit-df-merged.csv', index=False)"
   ]
  },
  {
   "cell_type": "code",
   "execution_count": null,
   "metadata": {},
   "outputs": [],
   "source": [
    "numerical_features = df_merged.select_dtypes(exclude=['object'])"
   ]
  },
  {
   "cell_type": "code",
   "execution_count": null,
   "metadata": {
    "scrolled": true
   },
   "outputs": [],
   "source": [
    "categorical_features = df_merged.select_dtypes(exclude=['int', 'float'])\n",
    "categorical_features.shape"
   ]
  },
  {
   "cell_type": "code",
   "execution_count": null,
   "metadata": {},
   "outputs": [],
   "source": [
    "tmp_categorical = pd.get_dummies(categorical_features)"
   ]
  },
  {
   "cell_type": "code",
   "execution_count": null,
   "metadata": {},
   "outputs": [],
   "source": [
    "pt_1_float_df = application.select_dtypes(include=['float'])\n",
    "pt_2_float_df = numerical_features.select_dtypes(include=['float'])\n",
    "\n",
    "pt_1_float_df['SK_ID_CURR'] = application['SK_ID_CURR']\n",
    "pt_2_float_df['SK_ID_CURR'] = df_merged['SK_ID_CURR']\n",
    "\n",
    "float_merged = pd.merge(pt_1_float_df, pt_2_float_df, on=['SK_ID_CURR'])\n",
    "float_merged.shape"
   ]
  },
  {
   "cell_type": "code",
   "execution_count": null,
   "metadata": {},
   "outputs": [],
   "source": [
    "pt_1_int_df = application.select_dtypes(include=['int'])\n",
    "pt_2_int_df = numerical_features.select_dtypes(include=['int'])\n",
    "\n",
    "pt_1_int_df['SK_ID_CURR'] = application['SK_ID_CURR']\n",
    "pt_2_int_df['SK_ID_CURR'] = df_merged['SK_ID_CURR']\n",
    "\n",
    "int_merged = pd.merge(pt_1_int_df, pt_2_int_df, on=['SK_ID_CURR'])\n",
    "int_merged.drop(labels=['TARGET'], inplace=True, axis=1)"
   ]
  },
  {
   "cell_type": "code",
   "execution_count": null,
   "metadata": {},
   "outputs": [],
   "source": [
    "int_merged.shape"
   ]
  },
  {
   "cell_type": "code",
   "execution_count": null,
   "metadata": {},
   "outputs": [],
   "source": [
    "float_merged = float_merged.fillna(method='ffill')\n",
    "float_merged = float_merged.fillna(method='bfill')"
   ]
  },
  {
   "cell_type": "code",
   "execution_count": null,
   "metadata": {},
   "outputs": [],
   "source": [
    "float_nans = float_merged.columns[float_merged.isnull().any().tolist()].tolist()\n",
    "float_merged.drop(labels=float_nans, axis=1, inplace=True)"
   ]
  },
  {
   "cell_type": "code",
   "execution_count": null,
   "metadata": {},
   "outputs": [],
   "source": [
    "IDS = float_merged['SK_ID_CURR']"
   ]
  },
  {
   "cell_type": "code",
   "execution_count": null,
   "metadata": {},
   "outputs": [],
   "source": [
    "from sklearn import preprocessing\n",
    "\n",
    "scaler = preprocessing.StandardScaler()\n",
    "scaled = scaler.fit_transform(float_merged.drop('SK_ID_CURR', axis=1))\n",
    "normalized_float_df = pd.DataFrame(scaled)"
   ]
  },
  {
   "cell_type": "code",
   "execution_count": null,
   "metadata": {},
   "outputs": [],
   "source": [
    "normalized_float_df.shape"
   ]
  },
  {
   "cell_type": "code",
   "execution_count": null,
   "metadata": {},
   "outputs": [],
   "source": [
    "normalized_float_df['SK_ID_CURR'] = IDS\n",
    "normalized_float_df.columns = float_merged.columns"
   ]
  },
  {
   "cell_type": "code",
   "execution_count": null,
   "metadata": {},
   "outputs": [],
   "source": [
    "normalized_float_df.to_csv('home-credit-float-features.csv', index=False)"
   ]
  },
  {
   "cell_type": "code",
   "execution_count": null,
   "metadata": {},
   "outputs": [],
   "source": [
    "# Add automated features back into the dataset\n",
    "autofeature = pd.read_csv(\"../home-credit-float-autofeatures.csv\")\n",
    "autofeature = pd.concat([IDS, autofeature], axis=1)\n",
    "autofeature.shape"
   ]
  },
  {
   "cell_type": "code",
   "execution_count": null,
   "metadata": {},
   "outputs": [],
   "source": [
    "# Add manual features back into the dataset\n",
    "manual_features = pd.read_csv(\"./home-credit-manual-float-features.csv\")\n",
    "manual_features = pd.concat([IDS, manual_features], axis=1)\n",
    "manual_features.shape"
   ]
  },
  {
   "cell_type": "code",
   "execution_count": null,
   "metadata": {},
   "outputs": [],
   "source": [
    "int_merged.shape"
   ]
  },
  {
   "cell_type": "code",
   "execution_count": null,
   "metadata": {},
   "outputs": [],
   "source": [
    "categorical_features.shape"
   ]
  },
  {
   "cell_type": "code",
   "execution_count": null,
   "metadata": {},
   "outputs": [],
   "source": [
    "# Autofeatures\n",
    "features_A = pd.concat([\n",
    "    autofeature,\n",
    "    tmp_categorical,\n",
    "    int_merged.drop('SK_ID_CURR', axis=1)], axis=1)"
   ]
  },
  {
   "cell_type": "code",
   "execution_count": null,
   "metadata": {},
   "outputs": [],
   "source": [
    "# Manual Features\n",
    "features_B = pd.concat([\n",
    "    manual_features,\n",
    "    tmp_categorical,\n",
    "    int_merged.drop('SK_ID_CURR', axis=1)], axis=1)"
   ]
  },
  {
   "cell_type": "code",
   "execution_count": null,
   "metadata": {},
   "outputs": [],
   "source": [
    "app = application[['SK_ID_CURR', 'TARGET']]"
   ]
  },
  {
   "cell_type": "code",
   "execution_count": null,
   "metadata": {},
   "outputs": [],
   "source": [
    "features_A_final = pd.merge(features_A, app, on='SK_ID_CURR', how='left')"
   ]
  },
  {
   "cell_type": "code",
   "execution_count": null,
   "metadata": {},
   "outputs": [],
   "source": [
    "features_B_final = pd.merge(features_B, app, on='SK_ID_CURR', how='left')"
   ]
  },
  {
   "cell_type": "code",
   "execution_count": null,
   "metadata": {},
   "outputs": [],
   "source": [
    "features_final['TARGET'].unique()"
   ]
  },
  {
   "cell_type": "code",
   "execution_count": null,
   "metadata": {},
   "outputs": [],
   "source": [
    "from sklearn.model_selection import train_test_split\n",
    " \n",
    "def split_data(df):\n",
    "    X_train, X_test, y_train, y_test = train_test_split(\n",
    "        df.drop('TARGET', axis=1), df['TARGET'], test_size=0.33, random_state=42)\n",
    "    return pd.concat([X_train, y_train], axis=1), pd.concat([X_test, y_test], axis=1)"
   ]
  },
  {
   "cell_type": "code",
   "execution_count": null,
   "metadata": {},
   "outputs": [],
   "source": [
    "def write_to_file(df, outfile):\n",
    "    df.drop('Unnamed: 0', axis=1, inplace=True)\n",
    "    df.to_csv(outfile, index=False)"
   ]
  },
  {
   "cell_type": "code",
   "execution_count": null,
   "metadata": {},
   "outputs": [],
   "source": [
    "train_A, valid_A = split_data(features_A_final)\n",
    "train_B, valid_B = split_data(features_B_final)"
   ]
  },
  {
   "cell_type": "code",
   "execution_count": null,
   "metadata": {},
   "outputs": [],
   "source": [
    "write_to_file(train_A, 'home-credit-manual-processed-train.csv')\n",
    "write_to_file(valid_A, 'home-credit-manual-processed-valid.csv')\n",
    "write_to_file(train_B, 'home-credit-auto-processed-train.csv')\n",
    "write_to_file(valid_B, 'home-credit-auto-processed-valid.csv')"
   ]
  }
 ],
 "metadata": {
  "kernelspec": {
   "display_name": "Python 3",
   "language": "python",
   "name": "python3"
  },
  "language_info": {
   "codemirror_mode": {
    "name": "ipython",
    "version": 3
   },
   "file_extension": ".py",
   "mimetype": "text/x-python",
   "name": "python",
   "nbconvert_exporter": "python",
   "pygments_lexer": "ipython3",
   "version": "3.5.2"
  }
 },
 "nbformat": 4,
 "nbformat_minor": 2
}
