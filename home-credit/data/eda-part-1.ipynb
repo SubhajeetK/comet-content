{
 "cells": [
  {
   "cell_type": "code",
   "execution_count": null,
   "metadata": {},
   "outputs": [],
   "source": [
    "import os\n",
    "from comet_ml import Experiment\n",
    "\n",
    "experiment = Experiment(api_key=os.environ.get(\"COMET_API_KEY\"), project_name=\"home-credit\")\n",
    "experiment.set_name('home-credit-eda')"
   ]
  },
  {
   "cell_type": "code",
   "execution_count": null,
   "metadata": {},
   "outputs": [],
   "source": [
    "import pandas as pd\n",
    "\n",
    "filename = './application_train.csv'\n",
    "\n",
    "df = pd.read_csv(filename, sep=',')\n",
    "df.head()"
   ]
  },
  {
   "cell_type": "code",
   "execution_count": null,
   "metadata": {},
   "outputs": [],
   "source": [
    "df.shape"
   ]
  },
  {
   "cell_type": "code",
   "execution_count": null,
   "metadata": {},
   "outputs": [],
   "source": [
    "# integer valued features\n",
    "integer_df = df.select_dtypes(include=['int'])\n",
    "integer_df.drop(columns=['SK_ID_CURR', 'TARGET'], axis=1, inplace=True)\n",
    "\n",
    "# some integer features are actually categorical features. So we need to extract these columns\n",
    "binary_cols = [col for col in integer_df if (list(integer_df[col].unique()) == [0, 1]) or (list(integer_df[col].unique()) == [1, 0])]\n",
    "integer_df.shape"
   ]
  },
  {
   "cell_type": "code",
   "execution_count": null,
   "metadata": {},
   "outputs": [],
   "source": [
    "# float valued features\n",
    "float_df = df.select_dtypes(exclude=['int', 'object'])\n",
    "float_df.shape"
   ]
  },
  {
   "cell_type": "code",
   "execution_count": null,
   "metadata": {},
   "outputs": [],
   "source": [
    "# categorical features\n",
    "categorical_df = df.select_dtypes(exclude=['int', 'float'])\n",
    "categorical_df.shape"
   ]
  },
  {
   "cell_type": "code",
   "execution_count": null,
   "metadata": {},
   "outputs": [],
   "source": [
    "# Plot target distribution\n",
    "import matplotlib.pyplot as plt\n",
    "\n",
    "feature = \"TARGET\"\n",
    "\n",
    "ax = df[feature].value_counts().plot(kind='bar',\n",
    "                                    figsize=(15,10), \n",
    "                                    color='blue')\n",
    "ax.set_xlabel(feature, fontsize=14)\n",
    "ax.set_ylabel(\"Count\", fontsize=14)\n",
    "experiment.log_figure(figure_name=feature, figure=plt)"
   ]
  },
  {
   "cell_type": "code",
   "execution_count": null,
   "metadata": {},
   "outputs": [],
   "source": [
    "# Plot categorical features\n",
    "import matplotlib.pyplot as plt\n",
    "\n",
    "categorical_features = list(df.select_dtypes(exclude=['int', 'float']).columns)\n",
    "\n",
    "for feature in categorical_features:\n",
    "    ax = df[feature].value_counts().plot(kind='bar',\n",
    "                                    figsize=(15,10), \n",
    "                                    color='green')\n",
    "    ax.set_xlabel(feature, fontsize=14)\n",
    "    ax.set_ylabel(\"Count\", fontsize=14)\n",
    "    experiment.log_figure(figure_name=feature, figure=plt)\n",
    "    plt.show()"
   ]
  },
  {
   "cell_type": "code",
   "execution_count": null,
   "metadata": {},
   "outputs": [],
   "source": [
    "# pca transformation function\n",
    "from sklearn.decomposition import PCA\n",
    "from sklearn import preprocessing\n",
    "\n",
    "def do_pca(df):\n",
    "    min_max_scaler = preprocessing.MinMaxScaler()\n",
    "    X_normalized = min_max_scaler.fit_transform(df)\n",
    "\n",
    "    pca = PCA(n_components=10)\n",
    "    components = pca.fit_transform(X_normalized)\n",
    "    columns = ['pca-{}'.format(i+1) for i in range(len(components[0,:]))]\n",
    "    \n",
    "    return (pca, pd.DataFrame(components, columns=columns))\n",
    "    "
   ]
  },
  {
   "cell_type": "code",
   "execution_count": null,
   "metadata": {},
   "outputs": [],
   "source": [
    "# plot correlation matrix for float type features\n",
    "import matplotlib.pyplot as plt\n",
    "\n",
    "float_columns = list(float_df.columns)\n",
    "float_corr = float_df.corr()\n",
    "\n",
    "fig = plt.figure(figsize=(15,10))\n",
    "ax = fig.add_subplot(111)\n",
    "cax = ax.matshow(float_corr, interpolation='nearest')\n",
    "fig.colorbar(cax)\n",
    "experiment.log_figure(figure_name='Float Features, Correlation Plot', figure=plt)"
   ]
  },
  {
   "cell_type": "code",
   "execution_count": null,
   "metadata": {},
   "outputs": [],
   "source": [
    "# Select float features for pca transformation\n",
    "pca_candidates = float_df.iloc[:, 11:53]\n",
    "pca_candidates = pca_candidates.fillna(method='ffill')\n",
    "pca_candidates = pca_candidates.fillna(method='bfill')\n",
    "pca, X_pca = do_pca(pca_candidates)"
   ]
  },
  {
   "cell_type": "code",
   "execution_count": null,
   "metadata": {},
   "outputs": [],
   "source": [
    "import matplotlib.pyplot as plt\n",
    "\n",
    "plt.figure(figsize=(15, 10))\n",
    "plt.bar(X_pca.columns, pca.explained_variance_ratio_)\n",
    "plt.ylabel('Explained Variance')\n",
    "plt.xlabel('Principle Components')\n",
    "experiment.log_figure(figure_name='Top 10 PCA Components', figure=plt)\n",
    "plt.show()"
   ]
  },
  {
   "cell_type": "code",
   "execution_count": null,
   "metadata": {},
   "outputs": [],
   "source": [
    "X_encoded = pd.get_dummies(categorical_df)\n",
    "X_encoded = pd.concat([X_encoded, integer_df[binary_cols]], axis=1)"
   ]
  },
  {
   "cell_type": "code",
   "execution_count": null,
   "metadata": {},
   "outputs": [],
   "source": [
    "import numpy as np\n",
    "import matplotlib.pyplot as plt\n",
    "\n",
    "from sklearn.ensemble import RandomForestClassifier\n",
    "    \n",
    "def rf_feature_plot(df, title):\n",
    "    rf = RandomForestClassifier(n_estimators=100, max_leaf_nodes=31)\n",
    "    rf.fit(df, y)\n",
    "\n",
    "    features = list(df.columns)\n",
    "    importances = rf.feature_importances_\n",
    "    indices = np.argsort(importances).tolist()\n",
    "\n",
    "    _tmp = indices[::-1][:15]\n",
    "    _x = range(len(_tmp))\n",
    "\n",
    "    feature_labels = [features[i] for i in _tmp]\n",
    "    top_importance = [importances[i] for i in _tmp]\n",
    "\n",
    "    plt.figure(figsize=(20,20))\n",
    "    plt.barh(_x, top_importance[::-1], color='b', align='center')\n",
    "    plt.yticks(_x, feature_labels[::-1], fontsize=14)\n",
    "    plt.xlabel('Relative Importance')\n",
    "    experiment.log_figure(figure_name=title, figure=plt)\n",
    "    plt.show()"
   ]
  },
  {
   "cell_type": "code",
   "execution_count": null,
   "metadata": {},
   "outputs": [],
   "source": [
    "# Drop pca candidate features from float_df\n",
    "# Drop categorical features from integer_df\n",
    "float_columns = list(float_df.columns)\n",
    "\n",
    "float_df.drop(columns=float_columns[11:53], inplace=True, axis=1)\n",
    "integer_df.drop(columns=binary_cols, inplace=True, axis=1)\n",
    "\n",
    "integer_df.fillna(method='ffill', inplace=True)\n",
    "float_df.fillna(method='ffill', inplace=True)\n",
    "float_df.fillna(method='bfill', inplace=True)"
   ]
  },
  {
   "cell_type": "code",
   "execution_count": null,
   "metadata": {},
   "outputs": [],
   "source": [
    "rf_feature_plot(X_encoded, 'RF Categorical Feature Importance')\n",
    "rf_feature_plot(integer_df, 'RF Integer Feature Importance')\n",
    "rf_feature_plot(float_df, 'RF Float Feature Importance')"
   ]
  },
  {
   "cell_type": "code",
   "execution_count": null,
   "metadata": {},
   "outputs": [],
   "source": [
    "float_df.head()"
   ]
  },
  {
   "cell_type": "code",
   "execution_count": null,
   "metadata": {},
   "outputs": [],
   "source": [
    "import lightgbm as lgb\n",
    "import matplotlib.pyplot as plt\n",
    "\n",
    "def lightgbm_feature_plot(df, y, title):\n",
    "    train_data = lgb.Dataset(data=df, label=y, feature_name=list(df.columns))\n",
    "    param = {'num_leaves':31, 'num_trees':100, 'objective':'binary', 'metric' : 'auc'}\n",
    "    num_round = 10\n",
    "    \n",
    "    bst = lgb.train(param, train_data, num_round)\n",
    "    ax = lgb.plot_importance(bst, max_num_features=15, figsize=(15, 10), height=0.5)\n",
    "    experiment.log_figure(figure_name=title, figure=plt)"
   ]
  },
  {
   "cell_type": "code",
   "execution_count": null,
   "metadata": {},
   "outputs": [],
   "source": [
    "lightgbm_feature_plot(float_df, df['TARGET'], 'LightGBM Float Feature Importance')\n",
    "lightgbm_feature_plot(integer_df, df['TARGET'],'LightGBM Integer Feature Importance')\n",
    "lightgbm_feature_plot(X_encoded, df['TARGET'], 'LightGBM Categorical Feature Importance')"
   ]
  },
  {
   "cell_type": "code",
   "execution_count": null,
   "metadata": {},
   "outputs": [],
   "source": [
    "from sklearn import preprocessing\n",
    "\n",
    "scaler = preprocessing.StandardScaler()\n",
    "normalized_integer_df = pd.DataFrame(scaler.fit_transform(integer_df))\n",
    "\n",
    "float_df.fillna(method='bfill', inplace=True)\n",
    "normalized_float_df = pd.DataFrame(scaler.fit_transform(float_df))"
   ]
  },
  {
   "cell_type": "code",
   "execution_count": null,
   "metadata": {},
   "outputs": [],
   "source": [
    "normalized_integer_df.columns = integer_df.columns"
   ]
  },
  {
   "cell_type": "code",
   "execution_count": null,
   "metadata": {},
   "outputs": [],
   "source": [
    "normalized_float_df.columns = float_df.columns"
   ]
  },
  {
   "cell_type": "code",
   "execution_count": null,
   "metadata": {},
   "outputs": [],
   "source": [
    "X_final = pd.concat([df['SK_ID_CURR'], normalized_float_df, normalized_integer_df, X_encoded, X_pca], axis=1)\n",
    "X_final.shape"
   ]
  },
  {
   "cell_type": "code",
   "execution_count": null,
   "metadata": {},
   "outputs": [],
   "source": [
    "from sklearn.model_selection import train_test_split\n",
    "\n",
    "X_train, X_valid, y_train, y_valid = train_test_split(X_final, df['TARGET'], test_size=0.1, random_state=42)"
   ]
  },
  {
   "cell_type": "code",
   "execution_count": null,
   "metadata": {},
   "outputs": [],
   "source": [
    "train = pd.concat([X_train, y_train], axis=1)\n",
    "valid = pd.concat([X_valid, y_valid], axis=1)"
   ]
  },
  {
   "cell_type": "code",
   "execution_count": null,
   "metadata": {},
   "outputs": [],
   "source": [
    "train.shape"
   ]
  },
  {
   "cell_type": "code",
   "execution_count": null,
   "metadata": {},
   "outputs": [],
   "source": [
    "train.to_csv('home-credit-train.csv', sep=',')\n",
    "valid.to_csv('home-credit-valid.csv', sep=',')"
   ]
  }
 ],
 "metadata": {
  "kernelspec": {
   "display_name": "Python 3",
   "language": "python",
   "name": "python3"
  },
  "language_info": {
   "codemirror_mode": {
    "name": "ipython",
    "version": 3
   },
   "file_extension": ".py",
   "mimetype": "text/x-python",
   "name": "python",
   "nbconvert_exporter": "python",
   "pygments_lexer": "ipython3",
   "version": "3.5.2"
  }
 },
 "nbformat": 4,
 "nbformat_minor": 2
}
